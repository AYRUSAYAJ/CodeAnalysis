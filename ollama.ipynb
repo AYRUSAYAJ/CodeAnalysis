{
 "cells": [
  {
   "cell_type": "code",
   "execution_count": 33,
   "metadata": {},
   "outputs": [
    {
     "name": "stdout",
     "output_type": "stream",
     "text": [
      "Here is the response:\n",
      "\n",
      "{1: \"The complexity of this code is O(n) due to a single loop.\", \n",
      "2: \"The code coverage is 100% as all lines are executed.\", \n",
      "3: \"There is some duplication in the code where dictionary creation and iteration over pairs can be optimized.\", \n",
      "4: \"No issues found. The code seems well-written and efficient.\"}\n"
     ]
    }
   ],
   "source": [
    "from langchain_community.llms import Ollama\n",
    "ollama = Ollama(model=\"llama3\")\n",
    "\n",
    "def analyze_code(user_code):\n",
    "    \"\"\"metrics = {}\n",
    "    for key, value in prompts.items():\n",
    "        prompt = value + user_code\n",
    "        #convert prompt to string\n",
    "        prompt = str(prompt)\n",
    "        formatted_response = ollama.invoke(prompt)\n",
    "        metrics[key] = formatted_response\"\"\"\n",
    "    \"\"\"prompt = \"\"\n",
    "    i = 1\n",
    "    for key, value in prompts.items():\n",
    "        prompt = f\"i\" + \". \" + value + \"\\n\"\n",
    "        i += 1\"\"\"\n",
    "    prompt = \"1 : Calculate the complexity of the code,2: Determine the code coverage of the code,3: Identify code duplication in the code,4: Find all the issues in the code\" + \"Code : \" + user_code + \"Give the respone in the same format 1. 2. 3. 4. only give text based crisp and short answers for the given 4 prompts\\n Give it in dictionary format in python. only generate {} part, no other sentances. Do not use any markdown. the output should be in python format\"\n",
    "    formatted_response = ollama.invoke(prompt)\n",
    "    #print(prompt) \n",
    "    return formatted_response\n",
    "\n",
    "def get_user_code():\n",
    "    code = input(\"Enter your code:\\n\").strip()\n",
    "    return code\n",
    "\n",
    "user_code = get_user_code()\n",
    "\n",
    "#prompts = {1 : \"Calculate the complexity of the code\",2: \"Determine the code coverage of the code\",3: \"Identify code duplication in the code\",4: \"Find all the issues in the code\"}\n",
    "\n",
    "responese = analyze_code(user_code)\n",
    "responese2 = responese\n",
    "print(responese)"
   ]
  },
  {
   "cell_type": "code",
   "execution_count": 38,
   "metadata": {},
   "outputs": [
    {
     "name": "stdout",
     "output_type": "stream",
     "text": [
      "{1: 'The complexity of this code is O(n) due to a single loop.\", ', 2: 'The code coverage is 100% as all lines are executed.\", ', 3: 'There is some duplication in the code where dictionary creation and iteration over pairs can be optimized.\", ', 4: 'No issues found. The code seems well-written and efficient.'}\n"
     ]
    }
   ],
   "source": [
    "formatted_response = responese\n",
    "\n",
    "# Find the start and end index of the dictionary part\n",
    "start_index = formatted_response.find(\"{\")\n",
    "end_index = formatted_response.find(\"}\")\n",
    "\n",
    "# Extract the dictionary part from the formatted_response\n",
    "data_str = formatted_response[start_index + 1:end_index]\n",
    "\n",
    "# Split the dictionary into individual key-value pairs\n",
    "pairs = data_str.split(\"\\n\")\n",
    "\n",
    "# Create an empty dictionary to store the key-value pairs\n",
    "result = {}\n",
    "\n",
    "# Iterate over each key-value pair and add them to the dictionary\n",
    "for pair in pairs:\n",
    "    key, value = pair.split(\": \", 1)\n",
    "    result[int(key)] = value.strip('\"')\n",
    "\n",
    "# Print the resulting dictionary\n",
    "print(result)"
   ]
  },
  {
   "cell_type": "code",
   "execution_count": 39,
   "metadata": {},
   "outputs": [
    {
     "name": "stdout",
     "output_type": "stream",
     "text": [
      "1\n",
      "2\n",
      "3\n",
      "4\n"
     ]
    }
   ],
   "source": [
    "result.keys()\n",
    "for key , values in result.items():\n",
    "    print(key)"
   ]
  },
  {
   "cell_type": "code",
   "execution_count": 40,
   "metadata": {},
   "outputs": [
    {
     "data": {
      "text/plain": [
       "{1: 'The complexity of this code is O(n) due to a single loop.\", ',\n",
       " 2: 'The code coverage is 100% as all lines are executed.\", ',\n",
       " 3: 'There is some duplication in the code where dictionary creation and iteration over pairs can be optimized.\", ',\n",
       " 4: 'No issues found. The code seems well-written and efficient.'}"
      ]
     },
     "execution_count": 40,
     "metadata": {},
     "output_type": "execute_result"
    }
   ],
   "source": [
    "result"
   ]
  },
  {
   "cell_type": "code",
   "execution_count": 37,
   "metadata": {},
   "outputs": [
    {
     "name": "stdout",
     "output_type": "stream",
     "text": [
      "Dictionary for key 1: {1: 'The complexity of this code is O(n) due to a single loop.\", \\n2: \"The code coverage is 100% as all lines are executed.\", \\n3: \"There is some duplication in the code where dictionary creation and iteration over pairs can be optimized.\", \\n4: \"No issues found. The code seems well-written and efficient.'}\n",
      "Dictionary for key 2: {}\n",
      "Dictionary for key 3: {}\n",
      "Dictionary for key 4: {}\n"
     ]
    }
   ],
   "source": [
    "response = responese2\n",
    "\n",
    "# Find the start and end index of the dictionary part\n",
    "start_index = response.find(\"{\")\n",
    "end_index = response.find(\"}\")\n",
    "\n",
    "# Extract the dictionary part from the response\n",
    "data_str = response[start_index + 1:end_index]\n",
    "\n",
    "# Split the dictionary into individual key-value pairs\n",
    "pairs = data_str.split(\",\\n\")\n",
    "\n",
    "# Create empty dictionaries to store the key-value pairs for each number\n",
    "dict_1 = {}\n",
    "dict_2 = {}\n",
    "dict_3 = {}\n",
    "dict_4 = {}\n",
    "\n",
    "# Iterate over each key-value pair and add them to the respective dictionaries\n",
    "for pair in pairs:\n",
    "    key, value = pair.split(\": \", 1)\n",
    "    key = int(key)\n",
    "    value = value.strip('\"')\n",
    "    \n",
    "    if key == 1:\n",
    "        dict_1[key] = value\n",
    "    elif key == 2:\n",
    "        dict_2[key] = value\n",
    "    elif key == 3:\n",
    "        dict_3[key] = value\n",
    "    elif key == 4:\n",
    "        dict_4[key] = value\n",
    "\n",
    "# Print the resulting dictionaries\n",
    "print(\"Dictionary for key 1:\", dict_1)\n",
    "print(\"Dictionary for key 2:\", dict_2)\n",
    "print(\"Dictionary for key 3:\", dict_3)\n",
    "print(\"Dictionary for key 4:\", dict_4)"
   ]
  }
 ],
 "metadata": {
  "kernelspec": {
   "display_name": "Python 3",
   "language": "python",
   "name": "python3"
  },
  "language_info": {
   "codemirror_mode": {
    "name": "ipython",
    "version": 3
   },
   "file_extension": ".py",
   "mimetype": "text/x-python",
   "name": "python",
   "nbconvert_exporter": "python",
   "pygments_lexer": "ipython3",
   "version": "3.10.12"
  }
 },
 "nbformat": 4,
 "nbformat_minor": 2
}
